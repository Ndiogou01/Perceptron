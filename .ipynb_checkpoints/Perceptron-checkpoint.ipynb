{
  "nbformat": 4,
  "nbformat_minor": 0,
  "metadata": {
    "colab": {
      "provenance": []
    },
    "kernelspec": {
      "name": "python3",
      "display_name": "Python 3"
    },
    "language_info": {
      "name": "python"
    }
  },
  "cells": [
    {
      "cell_type": "code",
      "execution_count": 1,
      "metadata": {
        "id": "kweblB2rM08W"
      },
      "outputs": [],
      "source": [
        "import numpy as np\n",
        "import pandas as pd\n",
        "import matplotlib.pyplot as plt"
      ]
    },
    {
      "cell_type": "code",
      "source": [
        "file = pd.ExcelFile('/content/!Mon cours de Réseaux connexionnistes Master 1 - TP - a - Données Perceptron Simple.xlsx')\n",
        "print(file)"
      ],
      "metadata": {
        "colab": {
          "base_uri": "https://localhost:8080/"
        },
        "id": "z_2gU_JHPkD-",
        "outputId": "d8dbe8f7-193d-4be3-f7cb-2aa88eea57c1"
      },
      "execution_count": 2,
      "outputs": [
        {
          "output_type": "stream",
          "name": "stdout",
          "text": [
            "<pandas.io.excel._base.ExcelFile object at 0x7de4e0e804c0>\n"
          ]
        }
      ]
    },
    {
      "cell_type": "code",
      "source": [
        "baseApprentissage = file.sheet_names[1]\n",
        "df_baseApprentissage = pd.read_excel(file, sheet_name = baseApprentissage)\n",
        "trainingTest = df_baseApprentissage.iloc[:,0:3].values"
      ],
      "metadata": {
        "id": "3civHeM3PuuU"
      },
      "execution_count": 5,
      "outputs": []
    },
    {
      "cell_type": "code",
      "source": [
        "output = df_baseApprentissage[['C']].values"
      ],
      "metadata": {
        "id": "BqTjxfWyQN9R"
      },
      "execution_count": 6,
      "outputs": []
    },
    {
      "cell_type": "code",
      "source": [
        "initPerceptron = [0,0,0]"
      ],
      "metadata": {
        "id": "zwLrS-4sQb0j"
      },
      "execution_count": 9,
      "outputs": []
    },
    {
      "cell_type": "code",
      "source": [
        "def algorithmePerceptron(base,sortie,w):\n",
        "  for i in range(base.shape[0]):\n",
        "    somme = 0\n",
        "    for j in range(base.shape[1]):\n",
        "      somme += base[i][j] * w[j]\n",
        "    y = 1 if somme > 0 else 0\n",
        "    for j in range(base.shape[1]):\n",
        "      w[j] += (sortie[i][0] - y) * base[i][j]\n",
        "    print(f\"{sortie[i][0]} : {y}\")\n",
        "  return w"
      ],
      "metadata": {
        "id": "x3j6XHVTQ27y"
      },
      "execution_count": 10,
      "outputs": []
    },
    {
      "cell_type": "code",
      "source": [
        "perceptron = algorithmePerceptron(trainingTest, output, initPerceptron)"
      ],
      "metadata": {
        "colab": {
          "base_uri": "https://localhost:8080/"
        },
        "id": "mSg9xir_RnXx",
        "outputId": "20c9ab33-7f28-44e1-b61a-304bf18b50c3"
      },
      "execution_count": 13,
      "outputs": [
        {
          "output_type": "stream",
          "name": "stdout",
          "text": [
            "0 : 0\n",
            "1 : 1\n",
            "0 : 0\n",
            "1 : 1\n",
            "0 : 0\n",
            "1 : 1\n",
            "0 : 0\n",
            "1 : 1\n",
            "0 : 0\n",
            "1 : 1\n",
            "0 : 0\n",
            "1 : 1\n",
            "0 : 0\n",
            "1 : 1\n",
            "0 : 0\n",
            "1 : 1\n",
            "0 : 0\n",
            "1 : 1\n",
            "0 : 0\n",
            "1 : 1\n",
            "1 : 1\n"
          ]
        }
      ]
    },
    {
      "cell_type": "code",
      "source": [
        "print(perceptron)"
      ],
      "metadata": {
        "colab": {
          "base_uri": "https://localhost:8080/"
        },
        "id": "2CR39LpPSA6e",
        "outputId": "3dad51ee-55dd-4ee8-d614-acb14db0a88c"
      },
      "execution_count": 14,
      "outputs": [
        {
          "output_type": "stream",
          "name": "stdout",
          "text": [
            "[-1.0, -2.4000000000000004, 4.3]\n"
          ]
        }
      ]
    },
    {
      "cell_type": "code",
      "source": [
        "baseTest = file.sheet_names[2]\n",
        "df_baseTest = pd.read_excel(file, sheet_name = baseTest)\n",
        "testSet = df_baseTest.iloc[:, 1:3]\n",
        "output_btest = df_baseTest[['Type De RdN']].values\n",
        "biais = np.ones(output_btest.shape[0])\n",
        "testSet.insert(0,'Biais', biais)\n",
        "testSet = testSet.values"
      ],
      "metadata": {
        "id": "KoJOuU1xSDk5"
      },
      "execution_count": 15,
      "outputs": []
    },
    {
      "cell_type": "code",
      "source": [
        "perceptron = algorithmePerceptron(testSet, output_btest, perceptron)"
      ],
      "metadata": {
        "colab": {
          "base_uri": "https://localhost:8080/"
        },
        "id": "aRa2hsTMS86c",
        "outputId": "231e5630-f229-453b-f1cf-bbf2727ca4d9"
      },
      "execution_count": 16,
      "outputs": [
        {
          "output_type": "stream",
          "name": "stdout",
          "text": [
            "0 : 0\n",
            "0 : 0\n",
            "0 : 0\n",
            "0 : 0\n",
            "0 : 0\n",
            "1 : 1\n",
            "1 : 1\n",
            "1 : 1\n",
            "1 : 1\n",
            "1 : 1\n"
          ]
        }
      ]
    },
    {
      "cell_type": "code",
      "source": [
        "print(perceptron)"
      ],
      "metadata": {
        "colab": {
          "base_uri": "https://localhost:8080/"
        },
        "id": "Z4w-nCT5TH-X",
        "outputId": "bd973e53-a22d-4787-d878-a5a95e7d80c3"
      },
      "execution_count": 17,
      "outputs": [
        {
          "output_type": "stream",
          "name": "stdout",
          "text": [
            "[-1.0, -2.4000000000000004, 4.3]\n"
          ]
        }
      ]
    },
    {
      "cell_type": "code",
      "source": [
        "def prediction(lengthSepal, lengthPetal):\n",
        "  weightedSum = perceptron[0] + lengthSepal * perceptron[1] + lengthPetal * perceptron[2]\n",
        "  return \"Iris-Versicolor\" if weightedSum > 0 else \"Iris-Setosa\"\n",
        "typeDeFleurs = prediction(5.6, 3.6)\n",
        "print(typeDeFleurs)"
      ],
      "metadata": {
        "colab": {
          "base_uri": "https://localhost:8080/"
        },
        "id": "IM5RXPooTKWF",
        "outputId": "eab7f49e-fdc8-4325-8d2b-8556f6a364a6"
      },
      "execution_count": 18,
      "outputs": [
        {
          "output_type": "stream",
          "name": "stdout",
          "text": [
            "Iris-Versicolor\n"
          ]
        }
      ]
    },
    {
      "cell_type": "code",
      "source": [
        "typeDeFleurs = prediction(5.8, 1.2)\n",
        "print(typeDeFleurs)"
      ],
      "metadata": {
        "colab": {
          "base_uri": "https://localhost:8080/"
        },
        "id": "FRCCEjZdT-uF",
        "outputId": "20d8bd38-c43e-40c3-db13-e4eefdc7db16"
      },
      "execution_count": 19,
      "outputs": [
        {
          "output_type": "stream",
          "name": "stdout",
          "text": [
            "Iris-Setosa\n"
          ]
        }
      ]
    },
    {
      "cell_type": "code",
      "source": [
        "plt.figure(figsize=(20,6))\n",
        "for i in range(len(output)):\n",
        "  if output[i] == 0:\n",
        "    plt.scatter(trainingTest[i][1], trainingTest[i][2], color='red', s = 150, label = 'Setosa')\n",
        "  else:\n",
        "    plt.scatter(trainingTest[i][1], trainingTest[i][2], color='blue', s = 150, label = 'Versicolor')\n",
        "x_values = np.linspace(min(trainingTest[:, 1]), max(trainingTest[:,1]), 100)\n",
        "y_values = -(perceptron[0] + perceptron[1] * x_values) / perceptron[2]\n",
        "plt.plot(x_values, y_values, color='green', label = 'Perceptron')\n",
        "plt.xlabel('Sepal length')\n",
        "plt.ylabel('Petal length')\n",
        "plt.title('Separation of classes by the perceptron')\n",
        "plt.show()"
      ],
      "metadata": {
        "colab": {
          "base_uri": "https://localhost:8080/",
          "height": 378
        },
        "id": "Nu_rn3XXUIPp",
        "outputId": "8cf70e25-8ae2-43f8-ab29-5971e06a0d66"
      },
      "execution_count": 21,
      "outputs": [
        {
          "output_type": "display_data",
          "data": {
            "text/plain": [
              "<Figure size 2000x600 with 1 Axes>"
            ],
            "image/png": "[encoded data removed]"
          },
          "metadata": {}
        }
      ]
    },
    {
      "cell_type": "code",
      "source": [],
      "metadata": {
        "id": "XOE0t_eaVvGT"
      },
      "execution_count": null,
      "outputs": []
    }
  ]
}